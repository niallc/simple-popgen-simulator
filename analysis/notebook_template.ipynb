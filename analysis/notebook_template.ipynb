{
  "cells": [
    {
      "cell_type": "raw",
      "metadata": {
        "vscode": {
          "languageId": "raw"
        }
      },
      "source": [
        "# Evolution Simulation Notebook Template\n",
        "\n",
        "This template shows the robust import pattern that works from any directory.\n"
      ]
    },
    {
      "cell_type": "code",
      "execution_count": 1,
      "metadata": {},
      "outputs": [
        {
          "name": "stdout",
          "output_type": "stream",
          "text": [
            "✅ Project root: /Users/niallHome/Documents/programming/SelectionAndSexualReproduction\n",
            "✅ Found src/ at: /Users/niallHome/Documents/programming/SelectionAndSexualReproduction/src\n",
            "✅ Successfully imported simulation modules\n",
            "✅ Ready to run simulations!\n"
          ]
        }
      ],
      "source": [
        "import numpy as np\n",
        "import matplotlib.pyplot as plt\n",
        "import pandas as pd\n",
        "\n",
        "# ROBUST IMPORT PATTERN - works from anywhere in project\n",
        "try:\n",
        "    # Method 1: Use utility (cleanest)\n",
        "    from import_utils import quick_setup\n",
        "    Simulation = quick_setup()\n",
        "except ImportError:\n",
        "    try:\n",
        "        # Method 2: Direct import from project root\n",
        "        from src.simulation import Simulation\n",
        "        print(\"✅ Direct import successful\")\n",
        "    except ImportError:\n",
        "        # Method 3: Manual path detection\n",
        "        import sys, os\n",
        "        if os.path.exists('src'):\n",
        "            sys.path.insert(0, os.getcwd())\n",
        "        elif os.path.exists('../src'):\n",
        "            sys.path.insert(0, os.path.dirname(os.getcwd()))\n",
        "        else:\n",
        "            raise ImportError(\"Run from project root or analysis/ directory\")\n",
        "        from src.simulation import Simulation\n",
        "        print(\"✅ Manual setup successful\")\n",
        "\n",
        "print(\"✅ Ready to run simulations!\")\n"
      ]
    },
    {
      "cell_type": "code",
      "execution_count": 2,
      "metadata": {},
      "outputs": [
        {
          "name": "stdout",
          "output_type": "stream",
          "text": [
            "Simulation complete! 21 generations of data.\n"
          ]
        },
        {
          "data": {
            "text/html": [
              "<div>\n",
              "<style scoped>\n",
              "    .dataframe tbody tr th:only-of-type {\n",
              "        vertical-align: middle;\n",
              "    }\n",
              "\n",
              "    .dataframe tbody tr th {\n",
              "        vertical-align: top;\n",
              "    }\n",
              "\n",
              "    .dataframe thead th {\n",
              "        text-align: right;\n",
              "    }\n",
              "</style>\n",
              "<table border=\"1\" class=\"dataframe\">\n",
              "  <thead>\n",
              "    <tr style=\"text-align: right;\">\n",
              "      <th></th>\n",
              "      <th>generation</th>\n",
              "      <th>mean_fitness</th>\n",
              "      <th>mean_heterozygosity</th>\n",
              "    </tr>\n",
              "  </thead>\n",
              "  <tbody>\n",
              "    <tr>\n",
              "      <th>0</th>\n",
              "      <td>0</td>\n",
              "      <td>5.32</td>\n",
              "      <td>0.49072</td>\n",
              "    </tr>\n",
              "    <tr>\n",
              "      <th>1</th>\n",
              "      <td>1</td>\n",
              "      <td>6.00</td>\n",
              "      <td>0.47136</td>\n",
              "    </tr>\n",
              "    <tr>\n",
              "      <th>2</th>\n",
              "      <td>2</td>\n",
              "      <td>6.88</td>\n",
              "      <td>0.39920</td>\n",
              "    </tr>\n",
              "    <tr>\n",
              "      <th>3</th>\n",
              "      <td>3</td>\n",
              "      <td>7.70</td>\n",
              "      <td>0.31176</td>\n",
              "    </tr>\n",
              "    <tr>\n",
              "      <th>4</th>\n",
              "      <td>4</td>\n",
              "      <td>7.62</td>\n",
              "      <td>0.33128</td>\n",
              "    </tr>\n",
              "  </tbody>\n",
              "</table>\n",
              "</div>"
            ],
            "text/plain": [
              "   generation  mean_fitness  mean_heterozygosity\n",
              "0           0          5.32              0.49072\n",
              "1           1          6.00              0.47136\n",
              "2           2          6.88              0.39920\n",
              "3           3          7.70              0.31176\n",
              "4           4          7.62              0.33128"
            ]
          },
          "execution_count": 2,
          "metadata": {},
          "output_type": "execute_result"
        }
      ],
      "source": [
        "# Your analysis code here...\n",
        "sim = Simulation(\n",
        "    population_size=50,\n",
        "    genome_length=10,\n",
        "    mutation_rate=0.01,\n",
        "    mode='asexual',\n",
        "    generations=20,\n",
        "    random_seed=42\n",
        ")\n",
        "\n",
        "sim.run()\n",
        "results = sim.get_results()\n",
        "print(f\"Simulation complete! {len(results)} generations of data.\")\n",
        "results.head()\n"
      ]
    }
  ],
  "metadata": {
    "kernelspec": {
      "display_name": "venv",
      "language": "python",
      "name": "python3"
    },
    "language_info": {
      "codemirror_mode": {
        "name": "ipython",
        "version": 3
      },
      "file_extension": ".py",
      "mimetype": "text/x-python",
      "name": "python",
      "nbconvert_exporter": "python",
      "pygments_lexer": "ipython3",
      "version": "3.13.3"
    }
  },
  "nbformat": 4,
  "nbformat_minor": 2
}
