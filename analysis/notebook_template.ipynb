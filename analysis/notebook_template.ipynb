{
  "cells": [
    {
      "cell_type": "raw",
      "metadata": {
        "vscode": {
          "languageId": "raw"
        }
      },
      "source": [
        "# Evolution Simulation Notebook Template\n",
        "\n",
        "This template shows the robust import pattern that works from any directory.\n"
      ]
    },
    {
      "cell_type": "code",
      "execution_count": null,
      "metadata": {},
      "outputs": [],
      "source": [
        "import numpy as np\n",
        "import matplotlib.pyplot as plt\n",
        "import pandas as pd\n",
        "\n",
        "# ROBUST IMPORT PATTERN - works from anywhere in project\n",
        "try:\n",
        "    # Method 1: Use utility (cleanest)\n",
        "    from import_utils import quick_setup\n",
        "    Simulation = quick_setup()\n",
        "except ImportError:\n",
        "    try:\n",
        "        # Method 2: Direct import from project root\n",
        "        from src.simulation import Simulation\n",
        "        print(\"✅ Direct import successful\")\n",
        "    except ImportError:\n",
        "        # Method 3: Manual path detection\n",
        "        import sys, os\n",
        "        if os.path.exists('src'):\n",
        "            sys.path.insert(0, os.getcwd())\n",
        "        elif os.path.exists('../src'):\n",
        "            sys.path.insert(0, os.path.dirname(os.getcwd()))\n",
        "        else:\n",
        "            raise ImportError(\"Run from project root or analysis/ directory\")\n",
        "        from src.simulation import Simulation\n",
        "        print(\"✅ Manual setup successful\")\n",
        "\n",
        "print(\"✅ Ready to run simulations!\")\n"
      ]
    },
    {
      "cell_type": "code",
      "execution_count": null,
      "metadata": {},
      "outputs": [],
      "source": [
        "# Your analysis code here...\n",
        "sim = Simulation(\n",
        "    population_size=50,\n",
        "    genome_length=10,\n",
        "    mutation_rate=0.01,\n",
        "    mode='asexual',\n",
        "    generations=20,\n",
        "    random_seed=42\n",
        ")\n",
        "\n",
        "sim.run()\n",
        "results = sim.get_results()\n",
        "print(f\"Simulation complete! {len(results)} generations of data.\")\n",
        "results.head()\n"
      ]
    }
  ],
  "metadata": {
    "language_info": {
      "name": "python"
    }
  },
  "nbformat": 4,
  "nbformat_minor": 2
}
